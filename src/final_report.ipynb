{
 "cells": [
  {
   "cell_type": "code",
   "execution_count": 7,
   "source": [
    "import numpy as np\n",
    "import pandas as pd\n",
    "import matplotlib.pyplot as plt\n",
    "import seaborn as sns\n",
    "\n",
    "from sklearn.model_selection import train_test_split, KFold, ParameterGrid, GridSearchCV\n",
    "from sklearn.metrics import mean_squared_error\n",
    "from sklearn.compose import ColumnTransformer\n",
    "from sklearn.pipeline import Pipeline, make_pipeline\n",
    "from sklearn.preprocessing import StandardScaler\n",
    "\n",
    "from sklearn.linear_model import ElasticNet\n",
    "sns.set()"
   ],
   "outputs": [],
   "metadata": {}
  },
  {
   "cell_type": "code",
   "execution_count": 5,
   "source": [
    "df = pd.read_csv('../data/beta_event_amplitude.csv',index_col=0)\n",
    "label_names = ['L2 prox gbar', 'L5 prox gbar', 'L2 dist gbar', 'L5 dist gbar', 'Prox variance', 'Dist variance',\n",
    "               'Prox mean time', 'Dist mean time', 'Amplitude']\n",
    "df.columns = label_names\n",
    "\n",
    "data_dict = {'gbar_evprox_1_L2Pyr_ampa': (1e-10, 1e-1), \n",
    "               'gbar_evprox_1_L5Pyr_ampa': (1e-10, 1e-1), \n",
    "               'gbar_evdist_1_L2Pyr_ampa': (1e-10, 1e-1), \n",
    "               'gbar_evdist_1_L5Pyr_ampa': (1e-10, 1e-1),\n",
    "               'sigma_t_evprox_1': (1, 100),\n",
    "               'sigma_t_evdist_1': (1, 100),\n",
    "               't_evprox_1': (200, 300),\n",
    "               't_evdist_1': (200, 300),\n",
    "               'amplitude': (-10000, 0)}\n",
    "\n",
    "X = df.iloc[:, df.columns != 'Amplitude']\n",
    "y = df.iloc[:, df.columns == 'Amplitude'].values"
   ],
   "outputs": [],
   "metadata": {}
  },
  {
   "cell_type": "code",
   "execution_count": 8,
   "source": [
    "# Same pipeline applies to both questions\n",
    "std_ftrs = np.array(label_names)\n",
    "std_ftrs = std_ftrs[std_ftrs != 'Amplitude']\n",
    "\n",
    "# collect all the encoders\n",
    "preprocessor = ColumnTransformer(\n",
    "    transformers=[('std', StandardScaler(), std_ftrs)])\n",
    "\n",
    "clf = Pipeline(steps=[('preprocessor', preprocessor)])"
   ],
   "outputs": [],
   "metadata": {}
  },
  {
   "cell_type": "code",
   "execution_count": 3,
   "source": [
    "def MLpipe_KFold_RMSE(X, y, preprocessor, ML_algo, param_grid):\n",
    "    '''\n",
    "    This function splits the data to other/test (80/20) and then applies KFold with 4 folds to other.\n",
    "    The RMSE is minimized in cross-validation.\n",
    "    '''\n",
    "    nr_states = 5\n",
    "    test_scores = np.zeros(nr_states)\n",
    "    final_models = []\n",
    "\n",
    "    results_dict = {\n",
    "        'random_state': list(),\n",
    "        'models': list(),\n",
    "        'train_scores': list(),\n",
    "        'validation_scores': list(),\n",
    "        'params': list()\n",
    "\n",
    "    }\n",
    "    for i in range(nr_states):\n",
    "        # first split to separate out the training set\n",
    "        X_other, X_test, y_other, y_test = train_test_split(X,y,train_size = 0.8,random_state=42*i)\n",
    "\n",
    "        # K folds to separate out the validation and test sets\n",
    "        kf = KFold(n_splits=4,shuffle=True,random_state=42*i)\n",
    "\n",
    "        pipe = make_pipeline(preprocessor, ML_algo)\n",
    "\n",
    "        grid = GridSearchCV(pipe, param_grid=param_grid, scoring = 'neg_root_mean_squared_error',\n",
    "                            cv=kf, return_train_score = True, n_jobs=-1, verbose=True)\n",
    "\n",
    "        grid.fit(X_other, y_other)\n",
    "        results = pd.DataFrame(grid.cv_results_)\n",
    "\n",
    "        # save the model\n",
    "        final_models.append(grid)\n",
    "        # calculate and save the test score\n",
    "        y_test_pred = final_models[-1].predict(X_test)\n",
    "        test_scores[i] = mean_squared_error(y_test,y_test_pred, squared=False)\n",
    "\n",
    "    best_idx = np.argmin(test_scores)\n",
    "    print(f'Best Test Score: {np.mean(test_scores)}±{np.std(test_scores)}')\n",
    "    print(f'Best params: {final_models[best_idx].best_params_}')\n",
    "    \n",
    "    return final_models"
   ],
   "outputs": [],
   "metadata": {}
  },
  {
   "cell_type": "code",
   "execution_count": null,
   "source": [
    "def make_train_val_plots(results_dict):\n",
    "\n",
    "    return"
   ],
   "outputs": [],
   "metadata": {}
  },
  {
   "cell_type": "code",
   "execution_count": 9,
   "source": [
    "param_grid = {'elasticnet__max_iter': [1e6], 'elasticnet__alpha': np.logspace(-2, 2, 10),\n",
    "              'elasticnet__l1_ratio': np.linspace(0.1, 1.0, 10),    \n",
    "              'elasticnet__random_state': [123]}\n",
    "res = MLpipe_KFold_RMSE(X, y, preprocessor, ElasticNet(), param_grid)"
   ],
   "outputs": [
    {
     "output_type": "stream",
     "name": "stdout",
     "text": [
      "Fitting 4 folds for each of 100 candidates, totalling 400 fits\n",
      "Fitting 4 folds for each of 100 candidates, totalling 400 fits\n",
      "Fitting 4 folds for each of 100 candidates, totalling 400 fits\n",
      "Fitting 4 folds for each of 100 candidates, totalling 400 fits\n",
      "Fitting 4 folds for each of 100 candidates, totalling 400 fits\n",
      "Fitting 4 folds for each of 100 candidates, totalling 400 fits\n",
      "Fitting 4 folds for each of 100 candidates, totalling 400 fits\n",
      "Fitting 4 folds for each of 100 candidates, totalling 400 fits\n",
      "Fitting 4 folds for each of 100 candidates, totalling 400 fits\n",
      "Fitting 4 folds for each of 100 candidates, totalling 400 fits\n",
      "Best Test Score: 912.4482520501784±3.9391288288940376\n",
      "Best params: {'elasticnet__alpha': 0.027825594022071243, 'elasticnet__l1_ratio': 1.0, 'elasticnet__max_iter': 1000000.0, 'elasticnet__random_state': 123}\n"
     ]
    }
   ],
   "metadata": {}
  },
  {
   "cell_type": "code",
   "execution_count": 12,
   "source": [
    "np.logspace(1,1,1)"
   ],
   "outputs": [
    {
     "output_type": "execute_result",
     "data": {
      "text/plain": [
       "array([10.])"
      ]
     },
     "metadata": {},
     "execution_count": 12
    }
   ],
   "metadata": {}
  },
  {
   "cell_type": "code",
   "execution_count": null,
   "source": [],
   "outputs": [],
   "metadata": {}
  }
 ],
 "metadata": {
  "orig_nbformat": 4,
  "language_info": {
   "name": "python",
   "version": "3.8.3",
   "mimetype": "text/x-python",
   "codemirror_mode": {
    "name": "ipython",
    "version": 3
   },
   "pygments_lexer": "ipython3",
   "nbconvert_exporter": "python",
   "file_extension": ".py"
  },
  "kernelspec": {
   "name": "python3",
   "display_name": "Python 3.8.3 64-bit ('base': conda)"
  },
  "interpreter": {
   "hash": "eac34295e966cc6ea53792e444894ceb6939639b752ce6f9c76f56849b50f481"
  }
 },
 "nbformat": 4,
 "nbformat_minor": 2
}