{
 "cells": [
  {
   "cell_type": "code",
   "execution_count": 17,
   "source": [
    "import numpy as np\n",
    "import pandas as pd\n",
    "import matplotlib.pyplot as plt\n",
    "import dill\n",
    "import seaborn as sns\n",
    "\n",
    "from sklearn.model_selection import train_test_split, KFold, ParameterGrid, GridSearchCV\n",
    "from sklearn.metrics import r2_score\n",
    "from sklearn.compose import ColumnTransformer\n",
    "from sklearn.pipeline import Pipeline, make_pipeline\n",
    "from sklearn.preprocessing import StandardScaler\n",
    "\n",
    "from sklearn.linear_model import LinearRegression, ElasticNet\n",
    "sns.set()"
   ],
   "outputs": [],
   "metadata": {}
  },
  {
   "cell_type": "code",
   "execution_count": 18,
   "source": [
    "df = pd.read_csv('../data/beta_event_amplitude.csv',index_col=0)\n",
    "label_names = ['L2 prox gbar', 'L5 prox gbar', 'L2 dist gbar', 'L5 dist gbar', 'Prox variance', 'Dist variance',\n",
    "               'Prox mean time', 'Dist mean time', 'Amplitude']\n",
    "df.columns = label_names\n",
    "\n",
    "data_dict = {'gbar_evprox_1_L2Pyr_ampa': (1e-10, 1e-1), \n",
    "               'gbar_evprox_1_L5Pyr_ampa': (1e-10, 1e-1), \n",
    "               'gbar_evdist_1_L2Pyr_ampa': (1e-10, 1e-1), \n",
    "               'gbar_evdist_1_L5Pyr_ampa': (1e-10, 1e-1),\n",
    "               'sigma_t_evprox_1': (1, 100),\n",
    "               'sigma_t_evdist_1': (1, 100),\n",
    "               't_evprox_1': (200, 300),\n",
    "               't_evdist_1': (200, 300),\n",
    "               'amplitude': (-10000, 0)}\n",
    "\n",
    "X = df.iloc[:, df.columns != 'Amplitude']\n",
    "y = df.iloc[:, df.columns == 'Amplitude'].values"
   ],
   "outputs": [],
   "metadata": {}
  },
  {
   "cell_type": "code",
   "execution_count": 19,
   "source": [
    "# Same pipeline applies to both questions\n",
    "std_ftrs = np.array(label_names)\n",
    "std_ftrs = std_ftrs[std_ftrs != 'Amplitude']\n",
    "\n",
    "# collect all the encoders\n",
    "preprocessor = ColumnTransformer(\n",
    "    transformers=[('std', StandardScaler(), std_ftrs)])\n",
    "\n",
    "clf = Pipeline(steps=[('preprocessor', preprocessor)])"
   ],
   "outputs": [],
   "metadata": {}
  },
  {
   "cell_type": "code",
   "execution_count": 20,
   "source": [
    "# Store preprocessed train/test/validation split from multiple random states\n",
    "data_split_nsr = list()\n",
    "for nsr in range(5):\n",
    "    X_train, X_other, y_train, y_other = train_test_split(X, y, test_size=0.4, random_state=123 * nsr)\n",
    "    X_test, X_val, y_test, y_val = train_test_split(X_other, y_other, test_size=0.5, random_state=123 * nsr)\n",
    "\n",
    "    X_train_prep = clf.fit_transform(X_train)\n",
    "    X_val_prep = clf.transform(X_val)\n",
    "    X_test_prep = clf.transform(X_test)\n",
    "\n",
    "    split_dict = {\n",
    "        'X_train': X_train_prep,\n",
    "        'y_train': y_train,\n",
    "        'X_val': X_val_prep,\n",
    "        'y_val': y_val,\n",
    "        'X_test': X_test_prep,\n",
    "        'y_test': y_test,\n",
    "    }\n",
    "\n",
    "    data_split_nsr.append(split_dict)\n",
    "\n",
    "# Save splitting regime\n",
    "with open('../results/data_split_nsr.pkl', 'wb') as file:\n",
    "    dill.dump(data_split_nsr, file)"
   ],
   "outputs": [],
   "metadata": {}
  },
  {
   "cell_type": "code",
   "execution_count": 21,
   "source": [
    "# Load previously saved preprocessed data splits\n",
    "with open('../results/data_split_nsr.pkl', 'rb') as file:\n",
    "    data_split_nsr = dill.load(file)"
   ],
   "outputs": [],
   "metadata": {}
  },
  {
   "cell_type": "code",
   "execution_count": 37,
   "source": [
    "def MLpipe_R2(ML_algo, param_grid, X_train, y_train, X_val, y_val, X_test, y_test, random_model=False):\n",
    "    \"\"\"ML regression pipeline assessed via R2 score\"\"\"\n",
    "\n",
    "    reg = ML_algo()\n",
    "    pg = ParameterGrid(param_grid)\n",
    "\n",
    "    #Store score_dict across random states\n",
    "    results = list()\n",
    "\n",
    "    # Only loop through random states if model is non-deterministic\n",
    "    if random_model:\n",
    "        num_random_states = 5\n",
    "    else:\n",
    "        num_random_states = 1\n",
    "\n",
    "    for nsr in range(num_random_states):\n",
    "        print(f'Random State: {nsr}')\n",
    "        random_state = 123 * nsr\n",
    "\n",
    "        # Store results from parameter sweep\n",
    "        score_dict = {\n",
    "            'random_state': random_state,\n",
    "            'train_scores': list(),\n",
    "            'validation_scores': list(),\n",
    "            'params': list(),\n",
    "            'best_idx': None,\n",
    "            'best_params': None,\n",
    "            'best_model': None,\n",
    "            'test_score': None\n",
    "        }\n",
    "\n",
    "        # Loop through params in parameter grid and store train/validation scores\n",
    "        for params in pg:\n",
    "            if random_model:\n",
    "                params['random_state'] = random_state\n",
    "            reg.set_params(**params)\n",
    "\n",
    "            reg.fit(X_train, y_train)\n",
    "            y_train_pred = reg.predict(X_train)\n",
    "            y_val_pred = reg.predict(X_val)\n",
    "\n",
    "            score_dict['train_scores'].append(r2_score(y_train, y_train_pred))\n",
    "            score_dict['validation_scores'].append(r2_score(y_val, y_val_pred))\n",
    "            score_dict['params'].append(params)\n",
    "            #score_dict['models'].append(reg.copy())\n",
    "\n",
    "        # Find best parameters from validation scores, and calculate test score\n",
    "        best_idx = np.argmax(score_dict['validation_scores'])\n",
    "        best_params = pg[best_idx]\n",
    "        print(f'Best Params: {best_params}')\n",
    "\n",
    "        reg.set_params(**best_params)\n",
    "        reg.fit(X_train, y_train)\n",
    "        y_test_pred = reg.predict(X_test)\n",
    "        test_score = r2_score(y_test, y_test_pred)\n",
    "        print(f'Test Score: {test_score}')\n",
    "\n",
    "        score_dict['test_score'] = test_score\n",
    "        score_dict['best_idx'] = best_idx\n",
    "        score_dict['best_params'] = best_params\n",
    "        score_dict['best_model'] = reg\n",
    "\n",
    "        results.append(score_dict)\n",
    "\n",
    "    return results"
   ],
   "outputs": [],
   "metadata": {}
  },
  {
   "cell_type": "code",
   "execution_count": 38,
   "source": [
    "def make_train_val_plots(results_dict):\n",
    "\n",
    "    return"
   ],
   "outputs": [],
   "metadata": {}
  },
  {
   "cell_type": "code",
   "execution_count": 39,
   "source": [
    "# Linear Regression\n",
    "param_grid = dict()\n",
    "res_list = list()\n",
    "for idx in range(5):\n",
    "    X_train, X_val, X_test = data_split_nsr[idx]['X_train'], data_split_nsr[idx]['X_val'], data_split_nsr[idx]['X_test']\n",
    "    y_train, y_val, y_test = data_split_nsr[idx]['y_train'], data_split_nsr[idx]['y_val'], data_split_nsr[idx]['y_test']\n",
    "\n",
    "    res = MLpipe_R2(LinearRegression, param_grid, X_train, y_train, X_val, y_val, X_test, y_test, random_model=False)\n",
    "    res_list.append(res)\n",
    "\n",
    "# Linear regression results\n",
    "with open('../results/linear_regression_results.pkl', 'wb') as file:\n",
    "    dill.dump(res_list, file)\n"
   ],
   "outputs": [
    {
     "output_type": "stream",
     "name": "stdout",
     "text": [
      "Random State: 0\n",
      "Best Params: {}\n",
      "Test Score: 0.21723733204942763\n"
     ]
    }
   ],
   "metadata": {}
  },
  {
   "cell_type": "code",
   "execution_count": null,
   "source": [],
   "outputs": [],
   "metadata": {}
  },
  {
   "cell_type": "code",
   "execution_count": 9,
   "source": [
    "param_grid = {'max_iter': [1e6], 'alpha': np.logspace(-2, 2, 10),\n",
    "              'l1_ratio': np.linspace(0.1, 1.0, 10),    \n",
    "              'random_state': [123]}\n",
    "res = MLpipe_KFold_RMSE(X, y, preprocessor, ElasticNet(), param_grid)"
   ],
   "outputs": [
    {
     "output_type": "stream",
     "name": "stdout",
     "text": [
      "Fitting 4 folds for each of 100 candidates, totalling 400 fits\n",
      "Fitting 4 folds for each of 100 candidates, totalling 400 fits\n",
      "Fitting 4 folds for each of 100 candidates, totalling 400 fits\n",
      "Fitting 4 folds for each of 100 candidates, totalling 400 fits\n",
      "Fitting 4 folds for each of 100 candidates, totalling 400 fits\n",
      "Fitting 4 folds for each of 100 candidates, totalling 400 fits\n",
      "Fitting 4 folds for each of 100 candidates, totalling 400 fits\n",
      "Fitting 4 folds for each of 100 candidates, totalling 400 fits\n",
      "Fitting 4 folds for each of 100 candidates, totalling 400 fits\n",
      "Fitting 4 folds for each of 100 candidates, totalling 400 fits\n",
      "Best Test Score: 912.4482520501784±3.9391288288940376\n",
      "Best params: {'elasticnet__alpha': 0.027825594022071243, 'elasticnet__l1_ratio': 1.0, 'elasticnet__max_iter': 1000000.0, 'elasticnet__random_state': 123}\n"
     ]
    }
   ],
   "metadata": {}
  },
  {
   "cell_type": "code",
   "execution_count": 12,
   "source": [
    "np.logspace(1,1,1)"
   ],
   "outputs": [
    {
     "output_type": "execute_result",
     "data": {
      "text/plain": [
       "array([10.])"
      ]
     },
     "metadata": {},
     "execution_count": 12
    }
   ],
   "metadata": {}
  },
  {
   "cell_type": "code",
   "execution_count": null,
   "source": [],
   "outputs": [],
   "metadata": {}
  }
 ],
 "metadata": {
  "orig_nbformat": 4,
  "language_info": {
   "name": "python",
   "version": "3.8.3",
   "mimetype": "text/x-python",
   "codemirror_mode": {
    "name": "ipython",
    "version": 3
   },
   "pygments_lexer": "ipython3",
   "nbconvert_exporter": "python",
   "file_extension": ".py"
  },
  "kernelspec": {
   "name": "python3",
   "display_name": "Python 3.8.3 64-bit ('anaconda3': virtualenv)"
  },
  "interpreter": {
   "hash": "eac34295e966cc6ea53792e444894ceb6939639b752ce6f9c76f56849b50f481"
  }
 },
 "nbformat": 4,
 "nbformat_minor": 2
}