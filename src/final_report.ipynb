{
 "cells": [
  {
   "cell_type": "code",
   "execution_count": 2,
   "source": [
    "import numpy as np\n",
    "import pandas as pd\n",
    "import matplotlib.pyplot as plt\n",
    "import seaborn as sns\n",
    "\n",
    "from sklearn.model_selection import train_test_split, KFold, ParameterGrid, GridSearchCV\n",
    "from sklearn.metrics import r2_score\n",
    "from sklearn.compose import ColumnTransformer\n",
    "from sklearn.pipeline import Pipeline, make_pipeline\n",
    "from sklearn.preprocessing import StandardScaler\n",
    "\n",
    "from sklearn.linear_model import ElasticNet\n",
    "sns.set()"
   ],
   "outputs": [],
   "metadata": {}
  },
  {
   "cell_type": "code",
   "execution_count": 3,
   "source": [
    "df = pd.read_csv('../data/beta_event_amplitude.csv',index_col=0)\n",
    "label_names = ['L2 prox gbar', 'L5 prox gbar', 'L2 dist gbar', 'L5 dist gbar', 'Prox variance', 'Dist variance',\n",
    "               'Prox mean time', 'Dist mean time', 'Amplitude']\n",
    "df.columns = label_names\n",
    "\n",
    "data_dict = {'gbar_evprox_1_L2Pyr_ampa': (1e-10, 1e-1), \n",
    "               'gbar_evprox_1_L5Pyr_ampa': (1e-10, 1e-1), \n",
    "               'gbar_evdist_1_L2Pyr_ampa': (1e-10, 1e-1), \n",
    "               'gbar_evdist_1_L5Pyr_ampa': (1e-10, 1e-1),\n",
    "               'sigma_t_evprox_1': (1, 100),\n",
    "               'sigma_t_evdist_1': (1, 100),\n",
    "               't_evprox_1': (200, 300),\n",
    "               't_evdist_1': (200, 300),\n",
    "               'amplitude': (-10000, 0)}\n",
    "\n",
    "X = df.iloc[:, df.columns != 'Amplitude']\n",
    "y = df.iloc[:, df.columns == 'Amplitude'].values"
   ],
   "outputs": [],
   "metadata": {}
  },
  {
   "cell_type": "code",
   "execution_count": 4,
   "source": [
    "# Same pipeline applies to both questions\n",
    "std_ftrs = np.array(label_names)\n",
    "std_ftrs = std_ftrs[std_ftrs != 'Amplitude']\n",
    "\n",
    "# collect all the encoders\n",
    "preprocessor = ColumnTransformer(\n",
    "    transformers=[('std', StandardScaler(), std_ftrs)])\n",
    "\n",
    "clf = Pipeline(steps=[('preprocessor', preprocessor)])"
   ],
   "outputs": [],
   "metadata": {}
  },
  {
   "cell_type": "code",
   "execution_count": 5,
   "source": [
    "\n",
    "def MLpipe_R2(ML_algo, param_grid, X_train, y_train, X_CV, y_CV, X_test, y_test, random_model=False):\n",
    "\n",
    "    reg = ML_algo()\n",
    "    pg = ParameterGrid(param_grid)\n",
    "\n",
    "    #Store score_dict across random states\n",
    "    results = list()\n",
    "\n",
    "    # Only loop through random states if model is non-deterministic\n",
    "    if random_model:\n",
    "        num_random_states = 5\n",
    "    else:\n",
    "        num_random_states = 1\n",
    "\n",
    "    for nsr in range(5):\n",
    "        print(f'Random State: {nsr}')\n",
    "        random_state = 123 * nsr\n",
    "\n",
    "        # Store results from parameter sweep\n",
    "        score_dict = {\n",
    "            'random_state': random_state,\n",
    "            'models': list(),\n",
    "            'train_scores': list(),\n",
    "            'validation_scores': list(),\n",
    "            'params': list(),\n",
    "            'best_idx': None,\n",
    "            'best_params': None,\n",
    "            'test_score': None\n",
    "        }\n",
    "\n",
    "        for params in pg:\n",
    "            params['random_state'] = random_state\n",
    "            reg.set_params(**params)\n",
    "\n",
    "            reg.fit(X_train, y_train)\n",
    "            y_train_pred = reg.predict(X_train)\n",
    "            y_CV_pred = reg.predict(X_CV)\n",
    "\n",
    "            score_dict['train_scores'].append(r2_score(y_train, y_train_pred))\n",
    "            score_dict['validation_scores'].append(r2_score(y_CV, y_CV_pred))\n",
    "            score_dict['params'].append(params)\n",
    "            score_dict['models'].append(reg.copy())\n",
    "\n",
    "        best_idx = np.argmax(score_dict['validation_scores'])\n",
    "        best_params = params[best_idx]\n",
    "        print(f'Best Params: {best_params}')\n",
    "\n",
    "        reg.set_params(**best_params)\n",
    "        reg.fit(X_train, y_train)\n",
    "        y_test_pred = reg.predict(X_test)\n",
    "        test_score = r2_score(y_test, y_test_pred)\n",
    "        print(f'Test Score: {test_score}')\n",
    "\n",
    "        score_dict['test_score'] = test_score\n",
    "        score_dict['best_idx'] = best_idx\n",
    "        score_dict['best_params'] = best_params\n",
    "\n",
    "        results.append(score_dict)\n",
    "\n",
    "    return results"
   ],
   "outputs": [],
   "metadata": {}
  },
  {
   "cell_type": "code",
   "execution_count": null,
   "source": [
    "def make_train_val_plots(results_dict):\n",
    "\n",
    "    return"
   ],
   "outputs": [],
   "metadata": {}
  },
  {
   "cell_type": "code",
   "execution_count": 9,
   "source": [
    "param_grid = {'elasticnet__max_iter': [1e6], 'elasticnet__alpha': np.logspace(-2, 2, 10),\n",
    "              'elasticnet__l1_ratio': np.linspace(0.1, 1.0, 10),    \n",
    "              'elasticnet__random_state': [123]}\n",
    "res = MLpipe_KFold_RMSE(X, y, preprocessor, ElasticNet(), param_grid)"
   ],
   "outputs": [
    {
     "output_type": "stream",
     "name": "stdout",
     "text": [
      "Fitting 4 folds for each of 100 candidates, totalling 400 fits\n",
      "Fitting 4 folds for each of 100 candidates, totalling 400 fits\n",
      "Fitting 4 folds for each of 100 candidates, totalling 400 fits\n",
      "Fitting 4 folds for each of 100 candidates, totalling 400 fits\n",
      "Fitting 4 folds for each of 100 candidates, totalling 400 fits\n",
      "Fitting 4 folds for each of 100 candidates, totalling 400 fits\n",
      "Fitting 4 folds for each of 100 candidates, totalling 400 fits\n",
      "Fitting 4 folds for each of 100 candidates, totalling 400 fits\n",
      "Fitting 4 folds for each of 100 candidates, totalling 400 fits\n",
      "Fitting 4 folds for each of 100 candidates, totalling 400 fits\n",
      "Best Test Score: 912.4482520501784±3.9391288288940376\n",
      "Best params: {'elasticnet__alpha': 0.027825594022071243, 'elasticnet__l1_ratio': 1.0, 'elasticnet__max_iter': 1000000.0, 'elasticnet__random_state': 123}\n"
     ]
    }
   ],
   "metadata": {}
  },
  {
   "cell_type": "code",
   "execution_count": 12,
   "source": [
    "np.logspace(1,1,1)"
   ],
   "outputs": [
    {
     "output_type": "execute_result",
     "data": {
      "text/plain": [
       "array([10.])"
      ]
     },
     "metadata": {},
     "execution_count": 12
    }
   ],
   "metadata": {}
  },
  {
   "cell_type": "code",
   "execution_count": null,
   "source": [],
   "outputs": [],
   "metadata": {}
  }
 ],
 "metadata": {
  "orig_nbformat": 4,
  "language_info": {
   "name": "python",
   "version": "3.8.3",
   "mimetype": "text/x-python",
   "codemirror_mode": {
    "name": "ipython",
    "version": 3
   },
   "pygments_lexer": "ipython3",
   "nbconvert_exporter": "python",
   "file_extension": ".py"
  },
  "kernelspec": {
   "name": "python3",
   "display_name": "Python 3.8.3 64-bit ('anaconda3': virtualenv)"
  },
  "interpreter": {
   "hash": "eac34295e966cc6ea53792e444894ceb6939639b752ce6f9c76f56849b50f481"
  }
 },
 "nbformat": 4,
 "nbformat_minor": 2
}