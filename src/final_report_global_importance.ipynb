{
 "cells": [
  {
   "cell_type": "code",
   "execution_count": 2,
   "source": [
    "import numpy as np\n",
    "import pandas as pd\n",
    "import matplotlib.pyplot as plt\n",
    "import dill\n",
    "import seaborn as sns\n",
    "\n",
    "from sklearn.metrics import r2_score\n",
    "\n",
    "from sklearn.linear_model import LinearRegression, Ridge\n",
    "from sklearn.neighbors import KNeighborsRegressor\n",
    "from sklearn.svm import SVR\n",
    "import xgboost\n",
    "\n",
    "sns.set()"
   ],
   "outputs": [],
   "metadata": {}
  },
  {
   "cell_type": "code",
   "execution_count": 27,
   "source": [
    "# Load previously saved preprocessed data splits\n",
    "with open('../results/data_split_nsr.pkl', 'rb') as file:\n",
    "    data_split_nsr = dill.load(file)\n",
    "\n",
    "ftr_names = np.array(['L2 prox gbar', 'L5 prox gbar', 'L2 dist gbar', 'L5 dist gbar', 'Prox variance', 'Dist variance',\n",
    "               'Prox mean time', 'Dist mean time'])"
   ],
   "outputs": [],
   "metadata": {}
  },
  {
   "cell_type": "code",
   "execution_count": 4,
   "source": [
    "results_dict = dict()\n",
    "res_names = ['linear_regression', 'ridge_regression', 'kn_regression']\n",
    "regression_dict = {\n",
    "    'linear_regression': LinearRegression,\n",
    "    'ridge_regression': Ridge,\n",
    "    'kn_regression': KNeighborsRegressor,\n",
    "    'sv_regression': SVR,\n",
    "    'xgb_regression': xgboost.XGBRegressor\n",
    "}\n",
    "\n",
    "for name in res_names:\n",
    "    with open(f'../results/{name}_results.pkl', 'rb') as file:\n",
    "        results_dict[name] = dill.load(file)"
   ],
   "outputs": [],
   "metadata": {}
  },
  {
   "cell_type": "markdown",
   "source": [
    "## Linear Regression Coefficients"
   ],
   "metadata": {}
  },
  {
   "cell_type": "code",
   "execution_count": 33,
   "source": [
    "model_name = 'linear_regression'\n",
    "split_idx = 0\n",
    "random_idx = 0\n",
    "\n",
    "X_train = pd.DataFrame(data_split_nsr[split_idx]['X_train'], columns=ftr_names)\n",
    "X_test = pd.DataFrame(data_split_nsr[split_idx]['X_test'], columns=ftr_names)\n",
    "y_train, y_test = data_split_nsr[split_idx]['y_train'],  data_split_nsr[split_idx]['y_test']\n",
    "\n",
    "reg = regression_dict[model_name]()\n",
    "params = results_dict[model_name][split_idx][random_idx]['best_params']\n",
    "reg.set_params(**params)\n",
    "reg.fit(X_train, y_train)\n"
   ],
   "outputs": [
    {
     "output_type": "execute_result",
     "data": {
      "text/plain": [
       "LinearRegression()"
      ]
     },
     "metadata": {},
     "execution_count": 33
    }
   ],
   "metadata": {}
  },
  {
   "cell_type": "code",
   "execution_count": 34,
   "source": [
    "plt.rcParams.update({'font.size': 14})\n",
    "plt.figure(figsize=(8,6))\n",
    "plt.barh(list(range(n_ftrs)), reg.coef_)\n",
    "plt.title(\"Linear Regression Coefficients\")\n",
    "plt.xlabel('Beta coefficient')\n",
    "plt.yticks(list(range(n_ftrs)), ftr_names)\n",
    "plt.legend()\n",
    "plt.tight_layout()\n",
    "plt.show()\n",
    "\n",
    "plt.savefig('../figures/linear_regression_coef.png')"
   ],
   "outputs": [
    {
     "output_type": "stream",
     "name": "stderr",
     "text": [
      "No handles with labels found to put in legend.\n"
     ]
    },
    {
     "output_type": "display_data",
     "data": {
      "text/plain": [
       "<Figure size 576x432 with 1 Axes>"
      ],
      "image/png": "[encoded data removed]"
     },
     "metadata": {}
    },
    {
     "output_type": "display_data",
     "data": {
      "text/plain": [
       "<Figure size 432x288 with 0 Axes>"
      ]
     },
     "metadata": {}
    }
   ],
   "metadata": {}
  },
  {
   "cell_type": "code",
   "execution_count": null,
   "source": [],
   "outputs": [],
   "metadata": {}
  },
  {
   "cell_type": "markdown",
   "source": [
    "## Permutation Test"
   ],
   "metadata": {}
  },
  {
   "cell_type": "code",
   "execution_count": 20,
   "source": [
    "def permutation_importance(X_test, y_test, reg, ftr_names):\n",
    "    np.random.seed(42)\n",
    "    test_score = r2_score(reg.predict(X_test), y_test)\n",
    "\n",
    "    nr_runs = 10\n",
    "    scores = np.zeros([len(ftr_names),nr_runs])\n",
    "    print('test score = ',test_score)\n",
    "    print('test baseline = ',np.sum(y_test == 0)/len(y_test))\n",
    "    # loop through the features\n",
    "    for i in range(len(ftr_names)):\n",
    "        print('shuffling '+str(ftr_names[i]))\n",
    "        acc_scores = []\n",
    "        for j in range(nr_runs):\n",
    "            X_test_shuffled = X_test.copy()\n",
    "            X_test_shuffled[ftr_names[i]] = np.random.permutation(X_test[ftr_names[i]].values)\n",
    "            y_pred_shuffled = reg.predict(X_test_shuffled)\n",
    "            acc_scores.append(r2_score(y_pred_shuffled, y_test))\n",
    "        print('   shuffled test score:',np.around(np.mean(acc_scores),3),'+/-',np.around(np.std(acc_scores),3))\n",
    "        scores[i] = acc_scores\n",
    "\n",
    "    return scores, test_score"
   ],
   "outputs": [],
   "metadata": {}
  },
  {
   "cell_type": "code",
   "execution_count": 35,
   "source": [
    "model_name = 'kn_regression'\n",
    "split_idx = 0\n",
    "random_idx = 0\n",
    "\n",
    "X_train = pd.DataFrame(data_split_nsr[split_idx]['X_train'], columns=ftr_names)\n",
    "X_test = pd.DataFrame(data_split_nsr[split_idx]['X_test'], columns=ftr_names)\n",
    "y_train, y_test = data_split_nsr[split_idx]['y_train'],  data_split_nsr[split_idx]['y_test']\n",
    "\n",
    "reg = regression_dict[model_name]()\n",
    "params = results_dict[model_name][split_idx][random_idx]['best_params']\n",
    "reg.set_params(**params)\n",
    "reg.fit(X_train, y_train)\n"
   ],
   "outputs": [
    {
     "output_type": "execute_result",
     "data": {
      "text/plain": [
       "KNeighborsRegressor(n_jobs=4, n_neighbors=12, weights='distance')"
      ]
     },
     "metadata": {},
     "execution_count": 35
    }
   ],
   "metadata": {}
  },
  {
   "cell_type": "code",
   "execution_count": 24,
   "source": [
    "scores, test_score = permutation_importance(X_test, y_test, reg, ftr_names)"
   ],
   "outputs": [
    {
     "output_type": "stream",
     "name": "stdout",
     "text": [
      "test score =  0.43412827559666745\n",
      "test baseline =  0.0\n",
      "shuffling L2 prox gbar\n",
      "   shuffled test score: -0.041 +/- 0.011\n",
      "shuffling L5 prox gbar\n",
      "   shuffled test score: -0.101 +/- 0.009\n",
      "shuffling L2 dist gbar\n",
      "   shuffled test score: 0.163 +/- 0.008\n",
      "shuffling L5 dist gbar\n",
      "   shuffled test score: -0.029 +/- 0.013\n",
      "shuffling Prox variance\n",
      "   shuffled test score: -0.297 +/- 0.01\n",
      "shuffling Dist variance\n",
      "   shuffled test score: -0.141 +/- 0.008\n",
      "shuffling Prox mean time\n",
      "   shuffled test score: -0.541 +/- 0.01\n",
      "shuffling Dist mean time\n",
      "   shuffled test score: -0.122 +/- 0.012\n"
     ]
    }
   ],
   "metadata": {}
  },
  {
   "cell_type": "code",
   "execution_count": 36,
   "source": [
    "plt.rcParams.update({'font.size': 14})\n",
    "plt.figure(figsize=(8,6))\n",
    "plt.boxplot(scores.T,labels=ftr_names,vert=False)\n",
    "plt.axvline(test_score,label='test score')\n",
    "plt.title('KN Regression Permutation Importances')\n",
    "plt.xlabel('score with perturbed feature')\n",
    "plt.legend()\n",
    "plt.tight_layout()\n",
    "plt.savefig('../figures/kn_regression_permutation.png')"
   ],
   "outputs": [
    {
     "output_type": "display_data",
     "data": {
      "text/plain": [
       "<Figure size 576x432 with 1 Axes>"
      ],
      "image/png": "[encoded data removed]"
     },
     "metadata": {}
    }
   ],
   "metadata": {}
  },
  {
   "cell_type": "code",
   "execution_count": null,
   "source": [],
   "outputs": [],
   "metadata": {}
  },
  {
   "cell_type": "code",
   "execution_count": null,
   "source": [
    "model_name = 'xgb_regression'\n",
    "split_idx = 0\n",
    "random_idx = 0\n",
    "\n",
    "reg = regression_dict[model_name]()\n",
    "params = results_dict[model_name][split_idx][random_idx]['best_params']\n",
    "reg.set_params(**params)\n",
    "reg.fit(X_train, y_train)"
   ],
   "outputs": [],
   "metadata": {}
  },
  {
   "cell_type": "code",
   "execution_count": null,
   "source": [
    "plt.rcParams.update({'font.size': 14})\n",
    "plt.figure(figsize=(8,6))\n",
    "plt.boxplot(scores.T,labels=ftr_names,vert=False)\n",
    "plt.axvline(test_score,label='test score')\n",
    "plt.title('XGBoost Regression Permutation Importances')\n",
    "plt.xlabel('score with perturbed feature')\n",
    "plt.legend()\n",
    "plt.tight_layout()\n",
    "plt.savefig('../figures/xgb_regression_permutation.png')"
   ],
   "outputs": [],
   "metadata": {}
  },
  {
   "cell_type": "markdown",
   "source": [
    "## XGBoost Feature Importances"
   ],
   "metadata": {}
  },
  {
   "cell_type": "code",
   "execution_count": null,
   "source": [
    "# model_name = 'xgboost_regression'\n",
    "# split_idx = 0\n",
    "# random_idx = 0\n",
    "\n",
    "# X_train = pd.DataFrame(data_split_nsr[split_idx]['X_train'], columns=ftr_names)\n",
    "# X_test = pd.DataFrame(data_split_nsr[split_idx]['X_test'], columns=ftr_names)\n",
    "# y_train, y_test = data_split_nsr[split_idx]['y_train'],  data_split_nsr[split_idx]['y_test']\n",
    "\n",
    "# reg = regression_dict[model_name]()\n",
    "# params = results_dict[model_name][split_idx][random_idx]['best_params']\n",
    "# reg.set_params(**params)\n",
    "# reg.fit(X_train, y_train)\n"
   ],
   "outputs": [],
   "metadata": {}
  },
  {
   "cell_type": "code",
   "execution_count": null,
   "source": [],
   "outputs": [],
   "metadata": {}
  },
  {
   "cell_type": "code",
   "execution_count": null,
   "source": [],
   "outputs": [],
   "metadata": {}
  },
  {
   "cell_type": "markdown",
   "source": [],
   "metadata": {}
  }
 ],
 "metadata": {
  "orig_nbformat": 4,
  "language_info": {
   "name": "python",
   "version": "3.9.7",
   "mimetype": "text/x-python",
   "codemirror_mode": {
    "name": "ipython",
    "version": 3
   },
   "pygments_lexer": "ipython3",
   "nbconvert_exporter": "python",
   "file_extension": ".py"
  },
  "kernelspec": {
   "name": "python3",
   "display_name": "Python 3.9.7 64-bit ('beta_project': conda)"
  },
  "interpreter": {
   "hash": "6cf701a14a7b24d464a730b4d12fb7eddc5c134e6dfdac201c27fad964cdf0d8"
  }
 },
 "nbformat": 4,
 "nbformat_minor": 2
}