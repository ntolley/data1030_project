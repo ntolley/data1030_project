{
 "cells": [
  {
   "cell_type": "code",
   "execution_count": 2,
   "source": [
    "import numpy as np\n",
    "import pandas as pd\n",
    "import matplotlib.pyplot as plt\n",
    "import dill\n",
    "import seaborn as sns\n",
    "\n",
    "from sklearn.model_selection import train_test_split, KFold, ParameterGrid, GridSearchCV\n",
    "from sklearn.metrics import r2_score\n",
    "from sklearn.compose import ColumnTransformer\n",
    "from sklearn.pipeline import Pipeline\n",
    "from sklearn.preprocessing import StandardScaler\n",
    "\n",
    "from sklearn.linear_model import LinearRegression, Ridge\n",
    "from sklearn.neighbors import KNeighborsRegressor\n",
    "from sklearn.svm import SVR\n",
    "from sklearn.dummy import DummyRegressor\n",
    "import xgboost\n",
    "\n",
    "sns.set()"
   ],
   "outputs": [],
   "metadata": {}
  },
  {
   "cell_type": "code",
   "execution_count": 14,
   "source": [
    "# Load previously saved preprocessed data splits\n",
    "with open('../results/data_split_nsr.pkl', 'rb') as file:\n",
    "    data_split_nsr = dill.load(file)\n",
    "\n",
    "ftr_names = ['L2 prox gbar', 'L5 prox gbar', 'L2 dist gbar', 'L5 dist gbar', 'Prox variance', 'Dist variance',\n",
    "               'Prox mean time', 'Dist mean time']"
   ],
   "outputs": [],
   "metadata": {}
  },
  {
   "cell_type": "code",
   "execution_count": 15,
   "source": [
    "results_dict = dict()\n",
    "res_names = ['linear_regression', 'ridge_regression', 'kn_regression']\n",
    "regression_dict = {\n",
    "    'linear_regression': LinearRegression,\n",
    "    'ridge_regression': Ridge,\n",
    "    'kn_regression': KNeighborsRegressor,\n",
    "    'sv_regression': SVR,\n",
    "    'xgb_regression': xgboost.XGBRegressor\n",
    "}\n",
    "\n",
    "for name in res_names:\n",
    "    with open(f'../results/{name}_results.pkl', 'rb') as file:\n",
    "        results_dict[name] = dill.load(file)"
   ],
   "outputs": [],
   "metadata": {}
  },
  {
   "cell_type": "markdown",
   "source": [
    "## Linear Regression Coefficients"
   ],
   "metadata": {}
  },
  {
   "cell_type": "markdown",
   "source": [
    "## Permutation Test"
   ],
   "metadata": {}
  },
  {
   "cell_type": "code",
   "execution_count": 18,
   "source": [
    "def permutation_importance(X_test, y_test, reg, ftr_names):\n",
    "    np.random.seed(42)\n",
    "    test_score = r2_score(reg.predict(X_test), y_test)\n",
    "\n",
    "    nr_runs = 10\n",
    "    scores = np.zeros([len(ftr_names),nr_runs])\n",
    "    print('test score = ',test_score)\n",
    "    print('test baseline = ',np.sum(y_test == 0)/len(y_test))\n",
    "    # loop through the features\n",
    "    for i in range(len(ftr_names)):\n",
    "        print('shuffling '+str(ftr_names[i]))\n",
    "        acc_scores = []\n",
    "        for j in range(nr_runs):\n",
    "            X_test_shuffled = X_test.copy()\n",
    "            X_test_shuffled[ftr_names[i]] = np.random.permutation(X_test[ftr_names[i]].values)\n",
    "            y_pred_shuffled = reg.predict(X_test_shuffled)\n",
    "            acc_scores.append(r2_score(y_pred_shuffled, y_test))\n",
    "        print('   shuffled test score:',np.around(np.mean(acc_scores),3),'+/-',np.around(np.std(acc_scores),3))\n",
    "        scores[i] = acc_scores\n",
    "\n",
    "    return scores, test_score"
   ],
   "outputs": [],
   "metadata": {}
  },
  {
   "cell_type": "code",
   "execution_count": 1,
   "source": [
    "model_name = 'kn_regression'\n",
    "split_idx = 0\n",
    "random_idx = 0\n",
    "\n",
    "X_train = pd.DataFrame(data_split_nsr[split_idx]['X_train'], columns=ftr_names)\n",
    "X_test = pd.DataFrame(data_split_nsr[split_idx]['X_test'], columns=ftr_names)\n",
    "y_train, y_test = data_split_nsr[split_idx]['y_train'],  data_split_nsr[split_idx]['y_test']\n",
    "\n",
    "reg = regression_dict[model_name]()\n",
    "params = results_dict[model_name][split_idx][random_idx]['best_params']\n",
    "reg.set_params(**params)\n",
    "reg.fit(X_train, y_train)\n"
   ],
   "outputs": [
    {
     "output_type": "error",
     "ename": "NameError",
     "evalue": "name 'pd' is not defined",
     "traceback": [
      "\u001b[0;31m---------------------------------------------------------------------------\u001b[0m",
      "\u001b[0;31mNameError\u001b[0m                                 Traceback (most recent call last)",
      "\u001b[0;32m/tmp/ipykernel_77504/1553778751.py\u001b[0m in \u001b[0;36m<module>\u001b[0;34m\u001b[0m\n\u001b[1;32m      3\u001b[0m \u001b[0mrandom_idx\u001b[0m \u001b[0;34m=\u001b[0m \u001b[0;36m0\u001b[0m\u001b[0;34m\u001b[0m\u001b[0;34m\u001b[0m\u001b[0m\n\u001b[1;32m      4\u001b[0m \u001b[0;34m\u001b[0m\u001b[0m\n\u001b[0;32m----> 5\u001b[0;31m \u001b[0mX_train\u001b[0m \u001b[0;34m=\u001b[0m \u001b[0mpd\u001b[0m\u001b[0;34m.\u001b[0m\u001b[0mDataFrame\u001b[0m\u001b[0;34m(\u001b[0m\u001b[0mdata_split_nsr\u001b[0m\u001b[0;34m[\u001b[0m\u001b[0msplit_idx\u001b[0m\u001b[0;34m]\u001b[0m\u001b[0;34m[\u001b[0m\u001b[0;34m'X_train'\u001b[0m\u001b[0;34m]\u001b[0m\u001b[0;34m,\u001b[0m \u001b[0mcolumns\u001b[0m\u001b[0;34m=\u001b[0m\u001b[0mftr_names\u001b[0m\u001b[0;34m)\u001b[0m\u001b[0;34m\u001b[0m\u001b[0;34m\u001b[0m\u001b[0m\n\u001b[0m\u001b[1;32m      6\u001b[0m \u001b[0mX_test\u001b[0m \u001b[0;34m=\u001b[0m \u001b[0mpd\u001b[0m\u001b[0;34m.\u001b[0m\u001b[0mDataFrame\u001b[0m\u001b[0;34m(\u001b[0m\u001b[0mdata_split_nsr\u001b[0m\u001b[0;34m[\u001b[0m\u001b[0msplit_idx\u001b[0m\u001b[0;34m]\u001b[0m\u001b[0;34m[\u001b[0m\u001b[0;34m'X_test'\u001b[0m\u001b[0;34m]\u001b[0m\u001b[0;34m,\u001b[0m \u001b[0mcolumns\u001b[0m\u001b[0;34m=\u001b[0m\u001b[0mftr_names\u001b[0m\u001b[0;34m)\u001b[0m\u001b[0;34m\u001b[0m\u001b[0;34m\u001b[0m\u001b[0m\n\u001b[1;32m      7\u001b[0m \u001b[0my_train\u001b[0m\u001b[0;34m,\u001b[0m \u001b[0my_test\u001b[0m \u001b[0;34m=\u001b[0m \u001b[0mdata_split_nsr\u001b[0m\u001b[0;34m[\u001b[0m\u001b[0msplit_idx\u001b[0m\u001b[0;34m]\u001b[0m\u001b[0;34m[\u001b[0m\u001b[0;34m'y_train'\u001b[0m\u001b[0;34m]\u001b[0m\u001b[0;34m,\u001b[0m  \u001b[0mdata_split_nsr\u001b[0m\u001b[0;34m[\u001b[0m\u001b[0msplit_idx\u001b[0m\u001b[0;34m]\u001b[0m\u001b[0;34m[\u001b[0m\u001b[0;34m'y_test'\u001b[0m\u001b[0;34m]\u001b[0m\u001b[0;34m\u001b[0m\u001b[0;34m\u001b[0m\u001b[0m\n",
      "\u001b[0;31mNameError\u001b[0m: name 'pd' is not defined"
     ]
    }
   ],
   "metadata": {}
  },
  {
   "cell_type": "code",
   "execution_count": 22,
   "source": [
    "score, test_score = permutation_importance(X_test, y_test, reg, ftr_names)"
   ],
   "outputs": [
    {
     "output_type": "stream",
     "name": "stdout",
     "text": [
      "test score =  0.43412827559666745\n",
      "test baseline =  0.0\n",
      "shuffling L2 prox gbar\n",
      "   shuffled test score: -0.041 +/- 0.011\n",
      "shuffling L5 prox gbar\n",
      "   shuffled test score: -0.101 +/- 0.009\n",
      "shuffling L2 dist gbar\n",
      "   shuffled test score: 0.163 +/- 0.008\n",
      "shuffling L5 dist gbar\n"
     ]
    }
   ],
   "metadata": {}
  },
  {
   "cell_type": "code",
   "execution_count": null,
   "source": [
    "sorted_indcs = np.argsort(np.mean(scores,axis=1))[::-1]\n",
    "plt.rcParams.update({'font.size': 14})\n",
    "plt.figure(figsize=(8,6))\n",
    "plt.boxplot(scores[sorted_indcs].T,labels=ftr_names[sorted_indcs],vert=False)\n",
    "plt.axvline(test_score,label='test score')\n",
    "plt.title(\"Permutation Importances (test set)\")\n",
    "plt.xlabel('score with perturbed feature')\n",
    "plt.legend()\n",
    "plt.tight_layout()\n",
    "plt.show()"
   ],
   "outputs": [],
   "metadata": {}
  },
  {
   "cell_type": "markdown",
   "source": [
    "## XGBoost Feature Importances"
   ],
   "metadata": {}
  },
  {
   "cell_type": "markdown",
   "source": [],
   "metadata": {}
  }
 ],
 "metadata": {
  "orig_nbformat": 4,
  "language_info": {
   "name": "python",
   "version": "3.9.7",
   "mimetype": "text/x-python",
   "codemirror_mode": {
    "name": "ipython",
    "version": 3
   },
   "pygments_lexer": "ipython3",
   "nbconvert_exporter": "python",
   "file_extension": ".py"
  },
  "kernelspec": {
   "name": "python3",
   "display_name": "Python 3.9.7 64-bit ('beta_project': conda)"
  },
  "interpreter": {
   "hash": "6cf701a14a7b24d464a730b4d12fb7eddc5c134e6dfdac201c27fad964cdf0d8"
  }
 },
 "nbformat": 4,
 "nbformat_minor": 2
}