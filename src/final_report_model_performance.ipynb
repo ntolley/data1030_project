{
 "cells": [
  {
   "cell_type": "code",
   "execution_count": 22,
   "source": [
    "import numpy as np\n",
    "import pandas as pd\n",
    "import matplotlib.pyplot as plt\n",
    "import dill\n",
    "import seaborn as sns\n",
    "\n",
    "from sklearn.metrics import r2_score\n",
    "\n",
    "from sklearn.linear_model import LinearRegression, Ridge\n",
    "from sklearn.neighbors import KNeighborsRegressor\n",
    "from sklearn.svm import SVR\n",
    "from sklearn.dummy import DummyRegressor\n",
    "import xgboost\n",
    "\n",
    "sns.set()"
   ],
   "outputs": [],
   "metadata": {}
  },
  {
   "cell_type": "code",
   "execution_count": 2,
   "source": [
    "# Load previously saved preprocessed data splits\n",
    "with open('../results/data_split_nsr.pkl', 'rb') as file:\n",
    "    data_split_nsr = dill.load(file)\n",
    "\n",
    "ftr_names = ['L2 prox gbar', 'L5 prox gbar', 'L2 dist gbar', 'L5 dist gbar', 'Prox variance', 'Dist variance',\n",
    "               'Prox mean time', 'Dist mean time']"
   ],
   "outputs": [],
   "metadata": {}
  },
  {
   "cell_type": "code",
   "execution_count": 3,
   "source": [
    "# Load results from model training/tuning\n",
    "\n",
    "results_dict = dict()\n",
    "res_names = ['linear_regression', 'ridge_regression', 'kn_regression']\n",
    "regression_dict = {\n",
    "    'linear_regression': LinearRegression,\n",
    "    'ridge_regression': Ridge,\n",
    "    'kn_regression': KNeighborsRegressor,\n",
    "    'sv_regression': SVR,\n",
    "    'xgb_regression': xgboost.XGBRegressor\n",
    "}\n",
    "\n",
    "for name in res_names:\n",
    "    with open(f'../results/{name}_results.pkl', 'rb') as file:\n",
    "        results_dict[name] = dill.load(file)"
   ],
   "outputs": [],
   "metadata": {}
  },
  {
   "cell_type": "code",
   "execution_count": 4,
   "source": [
    "# Calculate baseline score\n",
    "dummy_reg = DummyRegressor()\n",
    "baseline_scores = list()\n",
    "\n",
    "for split_idx in range(len(data_split_nsr)):\n",
    "    X_train = pd.DataFrame(data_split_nsr[split_idx]['X_train'], columns=ftr_names)\n",
    "    X_test = pd.DataFrame(data_split_nsr[split_idx]['X_test'], columns=ftr_names)\n",
    "    y_train, y_test = data_split_nsr[split_idx]['y_train'],  data_split_nsr[split_idx]['y_test']\n",
    "\n",
    "    dummy_reg.fit(X_train, y_train)\n",
    "    y_pred = dummy_reg.predict(y_test)\n",
    "    baseline_scores.append(r2_score(y_test, y_pred))\n"
   ],
   "outputs": [],
   "metadata": {}
  },
  {
   "cell_type": "code",
   "execution_count": 5,
   "source": [
    "test_scores = list()\n",
    "test_error = list()\n",
    "\n",
    "for name in res_names:\n",
    "    model_scores = list()\n",
    "    n_splits = len(results_dict[name])\n",
    "    for split_idx in range(n_splits):\n",
    "        n_states = len(results_dict[name][split_idx])\n",
    "        for state_idx in range(n_states):\n",
    "            model_scores.append(results_dict[name][split_idx][state_idx]['test_score'])\n",
    "    \n",
    "    test_scores.append(np.mean(model_scores))\n",
    "    test_error.append(np.std(model_scores))\n",
    "\n",
    "test_scores.append(np.mean(baseline_scores))\n",
    "test_error.append(np.std(baseline_scores))"
   ],
   "outputs": [],
   "metadata": {}
  },
  {
   "cell_type": "code",
   "execution_count": 30,
   "source": [
    "plot_labels = res_names + ['Baseline']\n",
    "\n",
    "n_models = len(res_names) + 1\n",
    "\n",
    "plt.figure(figsize=(8,6))\n",
    "plt.bar(list(range(n_models)), test_scores, color='C9')\n",
    "plt.errorbar(list(range(n_models)), test_scores, test_error, ecolor='k', capsize=10.0, zorder=12, capthick=2.0, linewidth=0)\n",
    "plt.xticks(list(range(n_models)), plot_labels)\n",
    "plt.ylabel('R2 Score (test set)')\n",
    "plt.title('BE Amplitude Prediction Model Comparison')\n",
    "plt.savefig('../figures/model_test_scores.png')"
   ],
   "outputs": [
    {
     "output_type": "display_data",
     "data": {
      "text/plain": [
       "<Figure size 576x432 with 1 Axes>"
      ],
      "image/png": "[encoded data removed]"
     },
     "metadata": {}
    }
   ],
   "metadata": {}
  },
  {
   "cell_type": "code",
   "execution_count": null,
   "source": [],
   "outputs": [],
   "metadata": {}
  },
  {
   "cell_type": "code",
   "execution_count": null,
   "source": [],
   "outputs": [],
   "metadata": {}
  }
 ],
 "metadata": {
  "orig_nbformat": 4,
  "language_info": {
   "name": "python",
   "version": "3.9.7",
   "mimetype": "text/x-python",
   "codemirror_mode": {
    "name": "ipython",
    "version": 3
   },
   "pygments_lexer": "ipython3",
   "nbconvert_exporter": "python",
   "file_extension": ".py"
  },
  "kernelspec": {
   "name": "python3",
   "display_name": "Python 3.9.7 64-bit ('beta_project': conda)"
  },
  "interpreter": {
   "hash": "6cf701a14a7b24d464a730b4d12fb7eddc5c134e6dfdac201c27fad964cdf0d8"
  }
 },
 "nbformat": 4,
 "nbformat_minor": 2
}